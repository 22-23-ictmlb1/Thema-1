{
 "cells": [
  {
   "cell_type": "code",
   "execution_count": 89,
   "id": "e50b261e-e3a7-4602-ae31-219e844af482",
   "metadata": {},
   "outputs": [],
   "source": [
    "#importeren\n",
    "import pandas as pd\n",
    "import pickle\n"
   ]
  },
  {
   "cell_type": "code",
   "execution_count": 90,
   "id": "a196e340-b11b-49c9-aa1b-472bda618771",
   "metadata": {},
   "outputs": [
    {
     "data": {
      "text/html": [
       "<div>\n",
       "<style scoped>\n",
       "    .dataframe tbody tr th:only-of-type {\n",
       "        vertical-align: middle;\n",
       "    }\n",
       "\n",
       "    .dataframe tbody tr th {\n",
       "        vertical-align: top;\n",
       "    }\n",
       "\n",
       "    .dataframe thead th {\n",
       "        text-align: right;\n",
       "    }\n",
       "</style>\n",
       "<table border=\"1\" class=\"dataframe\">\n",
       "  <thead>\n",
       "    <tr style=\"text-align: right;\">\n",
       "      <th>band</th>\n",
       "      <th>x</th>\n",
       "      <th>y</th>\n",
       "      <th>1</th>\n",
       "      <th>2</th>\n",
       "      <th>3</th>\n",
       "      <th>4</th>\n",
       "      <th>5</th>\n",
       "      <th>6</th>\n",
       "      <th>7</th>\n",
       "      <th>8</th>\n",
       "      <th>...</th>\n",
       "      <th>182</th>\n",
       "      <th>183</th>\n",
       "      <th>184</th>\n",
       "      <th>185</th>\n",
       "      <th>186</th>\n",
       "      <th>187</th>\n",
       "      <th>188</th>\n",
       "      <th>189</th>\n",
       "      <th>190</th>\n",
       "      <th>191</th>\n",
       "    </tr>\n",
       "  </thead>\n",
       "  <tbody>\n",
       "    <tr>\n",
       "      <th>49357</th>\n",
       "      <td>161</td>\n",
       "      <td>238</td>\n",
       "      <td>3434</td>\n",
       "      <td>3226</td>\n",
       "      <td>3104</td>\n",
       "      <td>3176</td>\n",
       "      <td>3124</td>\n",
       "      <td>3079</td>\n",
       "      <td>3003</td>\n",
       "      <td>2778</td>\n",
       "      <td>...</td>\n",
       "      <td>18</td>\n",
       "      <td>16</td>\n",
       "      <td>12</td>\n",
       "      <td>11</td>\n",
       "      <td>12</td>\n",
       "      <td>10</td>\n",
       "      <td>7</td>\n",
       "      <td>9</td>\n",
       "      <td>8</td>\n",
       "      <td>6</td>\n",
       "    </tr>\n",
       "    <tr>\n",
       "      <th>108378</th>\n",
       "      <td>354</td>\n",
       "      <td>8</td>\n",
       "      <td>3344</td>\n",
       "      <td>3203</td>\n",
       "      <td>3188</td>\n",
       "      <td>3116</td>\n",
       "      <td>3050</td>\n",
       "      <td>2988</td>\n",
       "      <td>2912</td>\n",
       "      <td>2671</td>\n",
       "      <td>...</td>\n",
       "      <td>0</td>\n",
       "      <td>3</td>\n",
       "      <td>0</td>\n",
       "      <td>2</td>\n",
       "      <td>-1</td>\n",
       "      <td>2</td>\n",
       "      <td>0</td>\n",
       "      <td>2</td>\n",
       "      <td>-1</td>\n",
       "      <td>-1</td>\n",
       "    </tr>\n",
       "    <tr>\n",
       "      <th>93119</th>\n",
       "      <td>304</td>\n",
       "      <td>99</td>\n",
       "      <td>3869</td>\n",
       "      <td>3759</td>\n",
       "      <td>3722</td>\n",
       "      <td>3709</td>\n",
       "      <td>3700</td>\n",
       "      <td>3620</td>\n",
       "      <td>3592</td>\n",
       "      <td>3365</td>\n",
       "      <td>...</td>\n",
       "      <td>33</td>\n",
       "      <td>25</td>\n",
       "      <td>22</td>\n",
       "      <td>25</td>\n",
       "      <td>23</td>\n",
       "      <td>22</td>\n",
       "      <td>14</td>\n",
       "      <td>17</td>\n",
       "      <td>15</td>\n",
       "      <td>11</td>\n",
       "    </tr>\n",
       "    <tr>\n",
       "      <th>366378</th>\n",
       "      <td>1194</td>\n",
       "      <td>128</td>\n",
       "      <td>4437</td>\n",
       "      <td>4265</td>\n",
       "      <td>4246</td>\n",
       "      <td>4361</td>\n",
       "      <td>4291</td>\n",
       "      <td>4258</td>\n",
       "      <td>4265</td>\n",
       "      <td>4059</td>\n",
       "      <td>...</td>\n",
       "      <td>89</td>\n",
       "      <td>72</td>\n",
       "      <td>57</td>\n",
       "      <td>68</td>\n",
       "      <td>63</td>\n",
       "      <td>60</td>\n",
       "      <td>34</td>\n",
       "      <td>49</td>\n",
       "      <td>38</td>\n",
       "      <td>23</td>\n",
       "    </tr>\n",
       "    <tr>\n",
       "      <th>127042</th>\n",
       "      <td>414</td>\n",
       "      <td>252</td>\n",
       "      <td>4091</td>\n",
       "      <td>4024</td>\n",
       "      <td>4195</td>\n",
       "      <td>4026</td>\n",
       "      <td>3960</td>\n",
       "      <td>3890</td>\n",
       "      <td>3820</td>\n",
       "      <td>3603</td>\n",
       "      <td>...</td>\n",
       "      <td>32</td>\n",
       "      <td>25</td>\n",
       "      <td>20</td>\n",
       "      <td>25</td>\n",
       "      <td>24</td>\n",
       "      <td>20</td>\n",
       "      <td>14</td>\n",
       "      <td>19</td>\n",
       "      <td>14</td>\n",
       "      <td>10</td>\n",
       "    </tr>\n",
       "    <tr>\n",
       "      <th>...</th>\n",
       "      <td>...</td>\n",
       "      <td>...</td>\n",
       "      <td>...</td>\n",
       "      <td>...</td>\n",
       "      <td>...</td>\n",
       "      <td>...</td>\n",
       "      <td>...</td>\n",
       "      <td>...</td>\n",
       "      <td>...</td>\n",
       "      <td>...</td>\n",
       "      <td>...</td>\n",
       "      <td>...</td>\n",
       "      <td>...</td>\n",
       "      <td>...</td>\n",
       "      <td>...</td>\n",
       "      <td>...</td>\n",
       "      <td>...</td>\n",
       "      <td>...</td>\n",
       "      <td>...</td>\n",
       "      <td>...</td>\n",
       "      <td>...</td>\n",
       "    </tr>\n",
       "    <tr>\n",
       "      <th>277365</th>\n",
       "      <td>904</td>\n",
       "      <td>145</td>\n",
       "      <td>3883</td>\n",
       "      <td>3744</td>\n",
       "      <td>3751</td>\n",
       "      <td>3706</td>\n",
       "      <td>3635</td>\n",
       "      <td>3663</td>\n",
       "      <td>3632</td>\n",
       "      <td>3399</td>\n",
       "      <td>...</td>\n",
       "      <td>100</td>\n",
       "      <td>80</td>\n",
       "      <td>63</td>\n",
       "      <td>77</td>\n",
       "      <td>68</td>\n",
       "      <td>63</td>\n",
       "      <td>40</td>\n",
       "      <td>49</td>\n",
       "      <td>38</td>\n",
       "      <td>23</td>\n",
       "    </tr>\n",
       "    <tr>\n",
       "      <th>309315</th>\n",
       "      <td>1008</td>\n",
       "      <td>167</td>\n",
       "      <td>3741</td>\n",
       "      <td>3664</td>\n",
       "      <td>3614</td>\n",
       "      <td>3708</td>\n",
       "      <td>3676</td>\n",
       "      <td>3627</td>\n",
       "      <td>3477</td>\n",
       "      <td>3349</td>\n",
       "      <td>...</td>\n",
       "      <td>80</td>\n",
       "      <td>64</td>\n",
       "      <td>50</td>\n",
       "      <td>62</td>\n",
       "      <td>57</td>\n",
       "      <td>51</td>\n",
       "      <td>30</td>\n",
       "      <td>38</td>\n",
       "      <td>32</td>\n",
       "      <td>20</td>\n",
       "    </tr>\n",
       "    <tr>\n",
       "      <th>179528</th>\n",
       "      <td>585</td>\n",
       "      <td>241</td>\n",
       "      <td>3568</td>\n",
       "      <td>3431</td>\n",
       "      <td>3426</td>\n",
       "      <td>3406</td>\n",
       "      <td>3287</td>\n",
       "      <td>3339</td>\n",
       "      <td>3251</td>\n",
       "      <td>3050</td>\n",
       "      <td>...</td>\n",
       "      <td>29</td>\n",
       "      <td>25</td>\n",
       "      <td>19</td>\n",
       "      <td>21</td>\n",
       "      <td>18</td>\n",
       "      <td>15</td>\n",
       "      <td>10</td>\n",
       "      <td>13</td>\n",
       "      <td>10</td>\n",
       "      <td>8</td>\n",
       "    </tr>\n",
       "    <tr>\n",
       "      <th>203212</th>\n",
       "      <td>662</td>\n",
       "      <td>286</td>\n",
       "      <td>4459</td>\n",
       "      <td>4395</td>\n",
       "      <td>4229</td>\n",
       "      <td>4289</td>\n",
       "      <td>4062</td>\n",
       "      <td>4220</td>\n",
       "      <td>4112</td>\n",
       "      <td>3920</td>\n",
       "      <td>...</td>\n",
       "      <td>38</td>\n",
       "      <td>33</td>\n",
       "      <td>25</td>\n",
       "      <td>33</td>\n",
       "      <td>29</td>\n",
       "      <td>24</td>\n",
       "      <td>17</td>\n",
       "      <td>23</td>\n",
       "      <td>15</td>\n",
       "      <td>11</td>\n",
       "    </tr>\n",
       "    <tr>\n",
       "      <th>184174</th>\n",
       "      <td>600</td>\n",
       "      <td>282</td>\n",
       "      <td>3455</td>\n",
       "      <td>3259</td>\n",
       "      <td>3172</td>\n",
       "      <td>3129</td>\n",
       "      <td>3188</td>\n",
       "      <td>3089</td>\n",
       "      <td>2995</td>\n",
       "      <td>2727</td>\n",
       "      <td>...</td>\n",
       "      <td>21</td>\n",
       "      <td>17</td>\n",
       "      <td>9</td>\n",
       "      <td>7</td>\n",
       "      <td>5</td>\n",
       "      <td>8</td>\n",
       "      <td>2</td>\n",
       "      <td>5</td>\n",
       "      <td>4</td>\n",
       "      <td>5</td>\n",
       "    </tr>\n",
       "  </tbody>\n",
       "</table>\n",
       "<p>3930 rows × 193 columns</p>\n",
       "</div>"
      ],
      "text/plain": [
       "band       x    y     1     2     3     4     5     6     7     8  ...  182  \\\n",
       "49357    161  238  3434  3226  3104  3176  3124  3079  3003  2778  ...   18   \n",
       "108378   354    8  3344  3203  3188  3116  3050  2988  2912  2671  ...    0   \n",
       "93119    304   99  3869  3759  3722  3709  3700  3620  3592  3365  ...   33   \n",
       "366378  1194  128  4437  4265  4246  4361  4291  4258  4265  4059  ...   89   \n",
       "127042   414  252  4091  4024  4195  4026  3960  3890  3820  3603  ...   32   \n",
       "...      ...  ...   ...   ...   ...   ...   ...   ...   ...   ...  ...  ...   \n",
       "277365   904  145  3883  3744  3751  3706  3635  3663  3632  3399  ...  100   \n",
       "309315  1008  167  3741  3664  3614  3708  3676  3627  3477  3349  ...   80   \n",
       "179528   585  241  3568  3431  3426  3406  3287  3339  3251  3050  ...   29   \n",
       "203212   662  286  4459  4395  4229  4289  4062  4220  4112  3920  ...   38   \n",
       "184174   600  282  3455  3259  3172  3129  3188  3089  2995  2727  ...   21   \n",
       "\n",
       "band    183  184  185  186  187  188  189  190  191  \n",
       "49357    16   12   11   12   10    7    9    8    6  \n",
       "108378    3    0    2   -1    2    0    2   -1   -1  \n",
       "93119    25   22   25   23   22   14   17   15   11  \n",
       "366378   72   57   68   63   60   34   49   38   23  \n",
       "127042   25   20   25   24   20   14   19   14   10  \n",
       "...     ...  ...  ...  ...  ...  ...  ...  ...  ...  \n",
       "277365   80   63   77   68   63   40   49   38   23  \n",
       "309315   64   50   62   57   51   30   38   32   20  \n",
       "179528   25   19   21   18   15   10   13   10    8  \n",
       "203212   33   25   33   29   24   17   23   15   11  \n",
       "184174   17    9    7    5    8    2    5    4    5  \n",
       "\n",
       "[3930 rows x 193 columns]"
      ]
     },
     "execution_count": 90,
     "metadata": {},
     "output_type": "execute_result"
    }
   ],
   "source": [
    "#Inladen van pickle bestand\n",
    "land = pd.read_pickle('spectral_data.pkl')    \n",
    "land = land.sample(frac=0.01,random_state=1)\n",
    "\n",
    "land"
   ]
  },
  {
   "cell_type": "code",
   "execution_count": 91,
   "id": "8420a1b2-6d57-4769-b425-38b4e1cb6449",
   "metadata": {},
   "outputs": [
    {
     "data": {
      "text/html": [
       "<div>\n",
       "<style scoped>\n",
       "    .dataframe tbody tr th:only-of-type {\n",
       "        vertical-align: middle;\n",
       "    }\n",
       "\n",
       "    .dataframe tbody tr th {\n",
       "        vertical-align: top;\n",
       "    }\n",
       "\n",
       "    .dataframe thead th {\n",
       "        text-align: right;\n",
       "    }\n",
       "</style>\n",
       "<table border=\"1\" class=\"dataframe\">\n",
       "  <thead>\n",
       "    <tr style=\"text-align: right;\">\n",
       "      <th>band</th>\n",
       "      <th>x</th>\n",
       "      <th>y</th>\n",
       "      <th>1</th>\n",
       "      <th>2</th>\n",
       "      <th>3</th>\n",
       "      <th>4</th>\n",
       "      <th>5</th>\n",
       "      <th>6</th>\n",
       "      <th>7</th>\n",
       "      <th>8</th>\n",
       "      <th>...</th>\n",
       "      <th>182</th>\n",
       "      <th>183</th>\n",
       "      <th>184</th>\n",
       "      <th>185</th>\n",
       "      <th>186</th>\n",
       "      <th>187</th>\n",
       "      <th>188</th>\n",
       "      <th>189</th>\n",
       "      <th>190</th>\n",
       "      <th>191</th>\n",
       "    </tr>\n",
       "  </thead>\n",
       "  <tbody>\n",
       "    <tr>\n",
       "      <th>49357</th>\n",
       "      <td>161</td>\n",
       "      <td>238</td>\n",
       "      <td>3434</td>\n",
       "      <td>3226</td>\n",
       "      <td>3104</td>\n",
       "      <td>3176</td>\n",
       "      <td>3124</td>\n",
       "      <td>3079</td>\n",
       "      <td>3003</td>\n",
       "      <td>2778</td>\n",
       "      <td>...</td>\n",
       "      <td>18</td>\n",
       "      <td>16</td>\n",
       "      <td>12</td>\n",
       "      <td>11</td>\n",
       "      <td>12</td>\n",
       "      <td>10</td>\n",
       "      <td>7</td>\n",
       "      <td>9</td>\n",
       "      <td>8</td>\n",
       "      <td>6</td>\n",
       "    </tr>\n",
       "    <tr>\n",
       "      <th>108378</th>\n",
       "      <td>354</td>\n",
       "      <td>8</td>\n",
       "      <td>3344</td>\n",
       "      <td>3203</td>\n",
       "      <td>3188</td>\n",
       "      <td>3116</td>\n",
       "      <td>3050</td>\n",
       "      <td>2988</td>\n",
       "      <td>2912</td>\n",
       "      <td>2671</td>\n",
       "      <td>...</td>\n",
       "      <td>0</td>\n",
       "      <td>3</td>\n",
       "      <td>0</td>\n",
       "      <td>2</td>\n",
       "      <td>-1</td>\n",
       "      <td>2</td>\n",
       "      <td>0</td>\n",
       "      <td>2</td>\n",
       "      <td>-1</td>\n",
       "      <td>-1</td>\n",
       "    </tr>\n",
       "    <tr>\n",
       "      <th>93119</th>\n",
       "      <td>304</td>\n",
       "      <td>99</td>\n",
       "      <td>3869</td>\n",
       "      <td>3759</td>\n",
       "      <td>3722</td>\n",
       "      <td>3709</td>\n",
       "      <td>3700</td>\n",
       "      <td>3620</td>\n",
       "      <td>3592</td>\n",
       "      <td>3365</td>\n",
       "      <td>...</td>\n",
       "      <td>33</td>\n",
       "      <td>25</td>\n",
       "      <td>22</td>\n",
       "      <td>25</td>\n",
       "      <td>23</td>\n",
       "      <td>22</td>\n",
       "      <td>14</td>\n",
       "      <td>17</td>\n",
       "      <td>15</td>\n",
       "      <td>11</td>\n",
       "    </tr>\n",
       "    <tr>\n",
       "      <th>366378</th>\n",
       "      <td>1194</td>\n",
       "      <td>128</td>\n",
       "      <td>4437</td>\n",
       "      <td>4265</td>\n",
       "      <td>4246</td>\n",
       "      <td>4361</td>\n",
       "      <td>4291</td>\n",
       "      <td>4258</td>\n",
       "      <td>4265</td>\n",
       "      <td>4059</td>\n",
       "      <td>...</td>\n",
       "      <td>89</td>\n",
       "      <td>72</td>\n",
       "      <td>57</td>\n",
       "      <td>68</td>\n",
       "      <td>63</td>\n",
       "      <td>60</td>\n",
       "      <td>34</td>\n",
       "      <td>49</td>\n",
       "      <td>38</td>\n",
       "      <td>23</td>\n",
       "    </tr>\n",
       "    <tr>\n",
       "      <th>127042</th>\n",
       "      <td>414</td>\n",
       "      <td>252</td>\n",
       "      <td>4091</td>\n",
       "      <td>4024</td>\n",
       "      <td>4195</td>\n",
       "      <td>4026</td>\n",
       "      <td>3960</td>\n",
       "      <td>3890</td>\n",
       "      <td>3820</td>\n",
       "      <td>3603</td>\n",
       "      <td>...</td>\n",
       "      <td>32</td>\n",
       "      <td>25</td>\n",
       "      <td>20</td>\n",
       "      <td>25</td>\n",
       "      <td>24</td>\n",
       "      <td>20</td>\n",
       "      <td>14</td>\n",
       "      <td>19</td>\n",
       "      <td>14</td>\n",
       "      <td>10</td>\n",
       "    </tr>\n",
       "    <tr>\n",
       "      <th>144094</th>\n",
       "      <td>470</td>\n",
       "      <td>112</td>\n",
       "      <td>3964</td>\n",
       "      <td>3874</td>\n",
       "      <td>3863</td>\n",
       "      <td>3902</td>\n",
       "      <td>3864</td>\n",
       "      <td>3741</td>\n",
       "      <td>3803</td>\n",
       "      <td>3547</td>\n",
       "      <td>...</td>\n",
       "      <td>68</td>\n",
       "      <td>55</td>\n",
       "      <td>42</td>\n",
       "      <td>53</td>\n",
       "      <td>48</td>\n",
       "      <td>45</td>\n",
       "      <td>27</td>\n",
       "      <td>36</td>\n",
       "      <td>32</td>\n",
       "      <td>20</td>\n",
       "    </tr>\n",
       "    <tr>\n",
       "      <th>122832</th>\n",
       "      <td>401</td>\n",
       "      <td>33</td>\n",
       "      <td>3382</td>\n",
       "      <td>3210</td>\n",
       "      <td>3124</td>\n",
       "      <td>3113</td>\n",
       "      <td>3130</td>\n",
       "      <td>3032</td>\n",
       "      <td>2974</td>\n",
       "      <td>2831</td>\n",
       "      <td>...</td>\n",
       "      <td>0</td>\n",
       "      <td>1</td>\n",
       "      <td>0</td>\n",
       "      <td>1</td>\n",
       "      <td>1</td>\n",
       "      <td>1</td>\n",
       "      <td>1</td>\n",
       "      <td>2</td>\n",
       "      <td>0</td>\n",
       "      <td>0</td>\n",
       "    </tr>\n",
       "    <tr>\n",
       "      <th>244882</th>\n",
       "      <td>798</td>\n",
       "      <td>204</td>\n",
       "      <td>3674</td>\n",
       "      <td>3526</td>\n",
       "      <td>3502</td>\n",
       "      <td>3487</td>\n",
       "      <td>3525</td>\n",
       "      <td>3462</td>\n",
       "      <td>3515</td>\n",
       "      <td>3293</td>\n",
       "      <td>...</td>\n",
       "      <td>63</td>\n",
       "      <td>50</td>\n",
       "      <td>38</td>\n",
       "      <td>48</td>\n",
       "      <td>42</td>\n",
       "      <td>39</td>\n",
       "      <td>24</td>\n",
       "      <td>30</td>\n",
       "      <td>26</td>\n",
       "      <td>14</td>\n",
       "    </tr>\n",
       "    <tr>\n",
       "      <th>364672</th>\n",
       "      <td>1188</td>\n",
       "      <td>264</td>\n",
       "      <td>3607</td>\n",
       "      <td>3510</td>\n",
       "      <td>3415</td>\n",
       "      <td>3309</td>\n",
       "      <td>3281</td>\n",
       "      <td>3265</td>\n",
       "      <td>3210</td>\n",
       "      <td>2957</td>\n",
       "      <td>...</td>\n",
       "      <td>37</td>\n",
       "      <td>29</td>\n",
       "      <td>23</td>\n",
       "      <td>27</td>\n",
       "      <td>22</td>\n",
       "      <td>20</td>\n",
       "      <td>12</td>\n",
       "      <td>17</td>\n",
       "      <td>12</td>\n",
       "      <td>8</td>\n",
       "    </tr>\n",
       "    <tr>\n",
       "      <th>78994</th>\n",
       "      <td>258</td>\n",
       "      <td>96</td>\n",
       "      <td>3273</td>\n",
       "      <td>3150</td>\n",
       "      <td>3112</td>\n",
       "      <td>3094</td>\n",
       "      <td>3013</td>\n",
       "      <td>2990</td>\n",
       "      <td>2873</td>\n",
       "      <td>2757</td>\n",
       "      <td>...</td>\n",
       "      <td>16</td>\n",
       "      <td>12</td>\n",
       "      <td>9</td>\n",
       "      <td>11</td>\n",
       "      <td>11</td>\n",
       "      <td>10</td>\n",
       "      <td>6</td>\n",
       "      <td>8</td>\n",
       "      <td>5</td>\n",
       "      <td>4</td>\n",
       "    </tr>\n",
       "  </tbody>\n",
       "</table>\n",
       "<p>10 rows × 193 columns</p>\n",
       "</div>"
      ],
      "text/plain": [
       "band       x    y     1     2     3     4     5     6     7     8  ...  182  \\\n",
       "49357    161  238  3434  3226  3104  3176  3124  3079  3003  2778  ...   18   \n",
       "108378   354    8  3344  3203  3188  3116  3050  2988  2912  2671  ...    0   \n",
       "93119    304   99  3869  3759  3722  3709  3700  3620  3592  3365  ...   33   \n",
       "366378  1194  128  4437  4265  4246  4361  4291  4258  4265  4059  ...   89   \n",
       "127042   414  252  4091  4024  4195  4026  3960  3890  3820  3603  ...   32   \n",
       "144094   470  112  3964  3874  3863  3902  3864  3741  3803  3547  ...   68   \n",
       "122832   401   33  3382  3210  3124  3113  3130  3032  2974  2831  ...    0   \n",
       "244882   798  204  3674  3526  3502  3487  3525  3462  3515  3293  ...   63   \n",
       "364672  1188  264  3607  3510  3415  3309  3281  3265  3210  2957  ...   37   \n",
       "78994    258   96  3273  3150  3112  3094  3013  2990  2873  2757  ...   16   \n",
       "\n",
       "band    183  184  185  186  187  188  189  190  191  \n",
       "49357    16   12   11   12   10    7    9    8    6  \n",
       "108378    3    0    2   -1    2    0    2   -1   -1  \n",
       "93119    25   22   25   23   22   14   17   15   11  \n",
       "366378   72   57   68   63   60   34   49   38   23  \n",
       "127042   25   20   25   24   20   14   19   14   10  \n",
       "144094   55   42   53   48   45   27   36   32   20  \n",
       "122832    1    0    1    1    1    1    2    0    0  \n",
       "244882   50   38   48   42   39   24   30   26   14  \n",
       "364672   29   23   27   22   20   12   17   12    8  \n",
       "78994    12    9   11   11   10    6    8    5    4  \n",
       "\n",
       "[10 rows x 193 columns]"
      ]
     },
     "execution_count": 91,
     "metadata": {},
     "output_type": "execute_result"
    }
   ],
   "source": [
    "#Dit is om te kijken hoed \n",
    "land.head(10)"
   ]
  },
  {
   "cell_type": "code",
   "execution_count": 93,
   "id": "02b9645e-56b7-4304-9a84-50abcc0ba789",
   "metadata": {},
   "outputs": [
    {
     "name": "stdout",
     "output_type": "stream",
     "text": [
      "<class 'pandas.core.frame.DataFrame'>\n",
      "Int64Index: 3930 entries, 49357 to 184174\n",
      "Columns: 193 entries, x to 191\n",
      "dtypes: int16(191), int64(2)\n",
      "memory usage: 1.5 MB\n"
     ]
    }
   ],
   "source": [
    "#Check om te kijken of het gelukt is \n",
    "land.info()"
   ]
  },
  {
   "cell_type": "code",
   "execution_count": 101,
   "id": "180d8157-ad77-4065-bcf6-87eff2f99746",
   "metadata": {},
   "outputs": [
    {
     "data": {
      "text/html": [
       "<div>\n",
       "<style scoped>\n",
       "    .dataframe tbody tr th:only-of-type {\n",
       "        vertical-align: middle;\n",
       "    }\n",
       "\n",
       "    .dataframe tbody tr th {\n",
       "        vertical-align: top;\n",
       "    }\n",
       "\n",
       "    .dataframe thead th {\n",
       "        text-align: right;\n",
       "    }\n",
       "</style>\n",
       "<table border=\"1\" class=\"dataframe\">\n",
       "  <thead>\n",
       "    <tr style=\"text-align: right;\">\n",
       "      <th></th>\n",
       "      <th>x</th>\n",
       "      <th>y</th>\n",
       "      <th>category</th>\n",
       "    </tr>\n",
       "  </thead>\n",
       "  <tbody>\n",
       "    <tr>\n",
       "      <th>49357</th>\n",
       "      <td>161</td>\n",
       "      <td>238</td>\n",
       "      <td>trees</td>\n",
       "    </tr>\n",
       "    <tr>\n",
       "      <th>108378</th>\n",
       "      <td>354</td>\n",
       "      <td>8</td>\n",
       "      <td>water</td>\n",
       "    </tr>\n",
       "    <tr>\n",
       "      <th>93119</th>\n",
       "      <td>304</td>\n",
       "      <td>99</td>\n",
       "      <td>road</td>\n",
       "    </tr>\n",
       "    <tr>\n",
       "      <th>366378</th>\n",
       "      <td>1194</td>\n",
       "      <td>128</td>\n",
       "      <td>roof</td>\n",
       "    </tr>\n",
       "    <tr>\n",
       "      <th>127042</th>\n",
       "      <td>414</td>\n",
       "      <td>252</td>\n",
       "      <td>road</td>\n",
       "    </tr>\n",
       "    <tr>\n",
       "      <th>...</th>\n",
       "      <td>...</td>\n",
       "      <td>...</td>\n",
       "      <td>...</td>\n",
       "    </tr>\n",
       "    <tr>\n",
       "      <th>277365</th>\n",
       "      <td>904</td>\n",
       "      <td>145</td>\n",
       "      <td>grass</td>\n",
       "    </tr>\n",
       "    <tr>\n",
       "      <th>309315</th>\n",
       "      <td>1008</td>\n",
       "      <td>167</td>\n",
       "      <td>grass</td>\n",
       "    </tr>\n",
       "    <tr>\n",
       "      <th>179528</th>\n",
       "      <td>585</td>\n",
       "      <td>241</td>\n",
       "      <td>grass</td>\n",
       "    </tr>\n",
       "    <tr>\n",
       "      <th>203212</th>\n",
       "      <td>662</td>\n",
       "      <td>286</td>\n",
       "      <td>road</td>\n",
       "    </tr>\n",
       "    <tr>\n",
       "      <th>184174</th>\n",
       "      <td>600</td>\n",
       "      <td>282</td>\n",
       "      <td>water</td>\n",
       "    </tr>\n",
       "  </tbody>\n",
       "</table>\n",
       "<p>3930 rows × 3 columns</p>\n",
       "</div>"
      ],
      "text/plain": [
       "           x    y category\n",
       "49357    161  238    trees\n",
       "108378   354    8    water\n",
       "93119    304   99     road\n",
       "366378  1194  128     roof\n",
       "127042   414  252     road\n",
       "...      ...  ...      ...\n",
       "277365   904  145    grass\n",
       "309315  1008  167    grass\n",
       "179528   585  241    grass\n",
       "203212   662  286     road\n",
       "184174   600  282    water\n",
       "\n",
       "[3930 rows x 3 columns]"
      ]
     },
     "execution_count": 101,
     "metadata": {},
     "output_type": "execute_result"
    }
   ],
   "source": [
    "#Importeren van en gebruiken van sample maar dit is niet reprensatief van de data set. Omdat er random gegevens gepakt worden.\n",
    "land_labels = pd.read_pickle('ground_truth.pkl')\n",
    "land_labels = land_labels.sample(frac=0.01,random_state=1)\n",
    "land_labels"
   ]
  },
  {
   "cell_type": "code",
   "execution_count": 115,
   "id": "41dc945b",
   "metadata": {},
   "outputs": [
    {
     "ename": "AttributeError",
     "evalue": "module 'pandas' has no attribute 'plot'",
     "output_type": "error",
     "traceback": [
      "\u001b[1;31m---------------------------------------------------------------------------\u001b[0m",
      "\u001b[1;31mAttributeError\u001b[0m                            Traceback (most recent call last)",
      "\u001b[1;32m~\\AppData\\Local\\Temp/ipykernel_17444/3340252171.py\u001b[0m in \u001b[0;36m<module>\u001b[1;34m\u001b[0m\n\u001b[1;32m----> 1\u001b[1;33m \u001b[0mpd\u001b[0m\u001b[1;33m.\u001b[0m\u001b[0mplot\u001b[0m\u001b[1;33m.\u001b[0m\u001b[0mscatter\u001b[0m\u001b[1;33m(\u001b[0m\u001b[0mland_labels\u001b[0m\u001b[1;33m,\u001b[0m \u001b[0mx\u001b[0m \u001b[1;33m=\u001b[0m \u001b[1;34m'x'\u001b[0m\u001b[1;33m,\u001b[0m \u001b[0my\u001b[0m\u001b[1;33m=\u001b[0m\u001b[1;34m'y'\u001b[0m\u001b[1;33m,\u001b[0m \u001b[0mc\u001b[0m \u001b[1;33m=\u001b[0m \u001b[1;34m'category'\u001b[0m\u001b[1;33m)\u001b[0m\u001b[1;33m\u001b[0m\u001b[1;33m\u001b[0m\u001b[0m\n\u001b[0m",
      "\u001b[1;32m~\\anaconda3\\lib\\site-packages\\pandas\\__init__.py\u001b[0m in \u001b[0;36m__getattr__\u001b[1;34m(name)\u001b[0m\n\u001b[0;32m    242\u001b[0m         \u001b[1;32mreturn\u001b[0m \u001b[0m_SparseArray\u001b[0m\u001b[1;33m\u001b[0m\u001b[1;33m\u001b[0m\u001b[0m\n\u001b[0;32m    243\u001b[0m \u001b[1;33m\u001b[0m\u001b[0m\n\u001b[1;32m--> 244\u001b[1;33m     \u001b[1;32mraise\u001b[0m \u001b[0mAttributeError\u001b[0m\u001b[1;33m(\u001b[0m\u001b[1;34mf\"module 'pandas' has no attribute '{name}'\"\u001b[0m\u001b[1;33m)\u001b[0m\u001b[1;33m\u001b[0m\u001b[1;33m\u001b[0m\u001b[0m\n\u001b[0m\u001b[0;32m    245\u001b[0m \u001b[1;33m\u001b[0m\u001b[0m\n\u001b[0;32m    246\u001b[0m \u001b[1;33m\u001b[0m\u001b[0m\n",
      "\u001b[1;31mAttributeError\u001b[0m: module 'pandas' has no attribute 'plot'"
     ]
    }
   ],
   "source": [
    "pd.plot.scatter(land_labels, x = 'x', y='y', c = 'category')"
   ]
  },
  {
   "cell_type": "code",
   "execution_count": null,
   "id": "418f48a7",
   "metadata": {},
   "outputs": [],
   "source": [
    "land_labels = land_labels['category'] \n",
    "land_labels.head(50)\n",
    "#De nummers komen overeen met de sample van de andere data set door hetzelfde random_state"
   ]
  },
  {
   "cell_type": "code",
   "execution_count": 95,
   "id": "52933652-5fba-438d-bc5e-7d351e07164c",
   "metadata": {},
   "outputs": [
    {
     "data": {
      "text/plain": [
       "0.8353689567430026"
      ]
     },
     "execution_count": 95,
     "metadata": {},
     "output_type": "execute_result"
    }
   ],
   "source": [
    "from sklearn.linear_model import LogisticRegression\n",
    "\n",
    "base_log_reg = LogisticRegression(penalty='l1', \n",
    "                                   multi_class='ovr',\n",
    "                                   solver='saga', \n",
    "                                   max_iter=int(1e4), \n",
    "                                   C=1).fit(land, land_labels)\n",
    "\n",
    "base_log_reg.score(land, land_labels)"
   ]
  },
  {
   "cell_type": "code",
   "execution_count": 151,
   "id": "075d9a4a",
   "metadata": {},
   "outputs": [],
   "source": [
    "uitkomst = base_log_reg.predict(land)\n"
   ]
  },
  {
   "cell_type": "code",
   "execution_count": 1,
   "id": "98311f9e",
   "metadata": {},
   "outputs": [
    {
     "ename": "NameError",
     "evalue": "name 'land_labels' is not defined",
     "output_type": "error",
     "traceback": [
      "\u001b[1;31m---------------------------------------------------------------------------\u001b[0m",
      "\u001b[1;31mNameError\u001b[0m                                 Traceback (most recent call last)",
      "Input \u001b[1;32mIn [1]\u001b[0m, in \u001b[0;36m<cell line: 1>\u001b[1;34m()\u001b[0m\n\u001b[1;32m----> 1\u001b[0m \u001b[43mland_labels\u001b[49m\u001b[38;5;241m.\u001b[39minsert(\u001b[38;5;241m0\u001b[39m, \u001b[38;5;124m\"\u001b[39m\u001b[38;5;124mUitkomst\u001b[39m\u001b[38;5;124m\"\u001b[39m, uitkomst)\n",
      "\u001b[1;31mNameError\u001b[0m: name 'land_labels' is not defined"
     ]
    }
   ],
   "source": [
    "land_labels.insert(0, \"Uitkomst\", uitkomst)\n"
   ]
  },
  {
   "cell_type": "code",
   "execution_count": 160,
   "id": "94987403",
   "metadata": {},
   "outputs": [
    {
     "data": {
      "text/plain": [
       "True     3283\n",
       "False     647\n",
       "dtype: int64"
      ]
     },
     "execution_count": 160,
     "metadata": {},
     "output_type": "execute_result"
    }
   ],
   "source": [
    "land_labels.head(100)\n",
    "procent = land_labels['category'] == land_labels['Uitkomst']\n",
    "procent.value_counts()"
   ]
  },
  {
   "cell_type": "code",
   "execution_count": 52,
   "id": "3fe677ca-7568-4317-a920-d20a3fda5946",
   "metadata": {},
   "outputs": [],
   "source": [
    "from sklearn.svm import l1_min_c\n",
    "import numpy as np\n",
    "\n",
    "cs = l1_min_c(land, land_labels, loss='log') * np.logspace(0, 7, 16)"
   ]
  },
  {
   "cell_type": "code",
   "execution_count": 53,
   "id": "29427e36",
   "metadata": {},
   "outputs": [
    {
     "data": {
      "text/plain": [
       "array([7.03374232, 6.56707566, 6.10040899, 5.63374232, 5.16707566,\n",
       "       4.70040899, 4.23374232, 3.76707566, 3.30040899, 2.83374232,\n",
       "       2.36707566, 1.90040899, 1.43374232, 0.96707566, 0.50040899,\n",
       "       0.03374232])"
      ]
     },
     "execution_count": 53,
     "metadata": {},
     "output_type": "execute_result"
    }
   ],
   "source": [
    "np.log10(1/cs) "
   ]
  },
  {
   "cell_type": "code",
   "execution_count": 54,
   "id": "991f1383-fa87-4617-b52d-9dea1feb538b",
   "metadata": {},
   "outputs": [],
   "source": [
    "from sklearn.linear_model import LogisticRegressionCV #let op dit is de crossvalidatie \n",
    "\n",
    "base_log_reg = LogisticRegressionCV(penalty='l1', \n",
    "                                   multi_class='ovr',\n",
    "                                   solver='saga', \n",
    "                                   max_iter=int(1e4), \n",
    "                                   Cs=cs).fit(land, land_labels)\n"
   ]
  },
  {
   "cell_type": "code",
   "execution_count": 64,
   "id": "338bae28",
   "metadata": {},
   "outputs": [
    {
     "data": {
      "text/plain": [
       "0.8290076335877863"
      ]
     },
     "execution_count": 64,
     "metadata": {},
     "output_type": "execute_result"
    }
   ],
   "source": [
    "base_log_reg.score(land, land_labels)"
   ]
  },
  {
   "cell_type": "code",
   "execution_count": 85,
   "id": "1c2a9365",
   "metadata": {},
   "outputs": [
    {
     "data": {
      "text/plain": [
       "array(['water', 'water', 'water', 'water', 'water', 'water', 'water',\n",
       "       'water', 'water', 'water', 'water', 'water', 'water', 'water',\n",
       "       'water', 'water', 'water', 'water', 'water', 'water', 'water',\n",
       "       'water', 'water', 'water', 'water', 'water', 'water', 'water',\n",
       "       'water', 'water', 'water', 'water', 'water', 'water', 'water',\n",
       "       'water', 'water', 'water', 'water', 'water', 'water', 'water',\n",
       "       'water', 'water', 'water', 'water', 'water', 'water', 'water',\n",
       "       'water', 'water', 'water', 'water', 'water', 'water', 'water',\n",
       "       'water', 'water', 'water', 'water', 'water', 'water', 'water',\n",
       "       'water', 'water', 'water', 'water', 'water', 'water', 'water',\n",
       "       'water', 'water', 'water', 'water', 'water', 'water', 'water',\n",
       "       'water', 'water', 'water', 'water', 'water', 'water', 'water',\n",
       "       'water', 'water', 'water', 'water', 'water', 'water', 'water',\n",
       "       'water', 'water', 'water', 'water', 'water', 'water', 'water',\n",
       "       'water', 'water', 'water', 'water', 'water', 'water', 'water',\n",
       "       'water', 'grass', 'grass', 'grass', 'grass', 'grass', 'grass',\n",
       "       'grass', 'road', 'road', 'road', 'road', 'road', 'road', 'road',\n",
       "       'trees', 'trees', 'trees', 'trees', 'trees', 'trees', 'water',\n",
       "       'road', 'road', 'road', 'water', 'road', 'road', 'road', 'roof',\n",
       "       'road', 'road', 'roof', 'roof', 'roof', 'grass', 'grass', 'grass',\n",
       "       'grass', 'grass', 'grass', 'grass', 'grass', 'grass', 'grass',\n",
       "       'grass', 'grass', 'grass', 'grass', 'grass', 'grass', 'grass',\n",
       "       'grass', 'grass', 'grass', 'grass', 'grass', 'grass', 'grass',\n",
       "       'grass', 'grass', 'grass', 'grass', 'grass', 'grass', 'roof',\n",
       "       'roof', 'roof', 'road', 'road', 'road', 'road', 'road', 'road',\n",
       "       'road', 'roof', 'roof', 'trees', 'trees', 'trees', 'trees',\n",
       "       'trees', 'trees', 'trees', 'grass', 'grass', 'grass', 'road',\n",
       "       'road', 'road', 'road', 'road', 'road', 'road', 'road'],\n",
       "      dtype=object)"
      ]
     },
     "execution_count": 85,
     "metadata": {},
     "output_type": "execute_result"
    }
   ],
   "source": [
    "base_log_reg.predict(land)"
   ]
  },
  {
   "cell_type": "code",
   "execution_count": 55,
   "id": "4630fd76-0326-424f-b529-16c8aa9699de",
   "metadata": {},
   "outputs": [
    {
     "data": {
      "text/plain": [
       "array([2.36707566, 0.96707566, 2.36707566, 2.83374232, 1.43374232,\n",
       "       1.90040899])"
      ]
     },
     "execution_count": 55,
     "metadata": {},
     "output_type": "execute_result"
    }
   ],
   "source": [
    "np.log10(1/base_log_reg.C_)"
   ]
  },
  {
   "cell_type": "code",
   "execution_count": 56,
   "id": "0cc8d577",
   "metadata": {},
   "outputs": [
    {
     "data": {
      "text/plain": [
       "<AxesSubplot:>"
      ]
     },
     "execution_count": 56,
     "metadata": {},
     "output_type": "execute_result"
    },
    {
     "data": {
      "image/png": "[encoded data removed]",
      "text/plain": [
       "<Figure size 432x288 with 1 Axes>"
      ]
     },
     "metadata": {
      "needs_background": "light"
     },
     "output_type": "display_data"
    },
    {
     "data": {
      "image/png": "[encoded data removed]",
      "text/plain": [
       "<Figure size 432x288 with 1 Axes>"
      ]
     },
     "metadata": {
      "needs_background": "light"
     },
     "output_type": "display_data"
    }
   ],
   "source": [
    "pd.DataFrame(base_log_reg.scores_['trees']).plot()\n",
    "pd.DataFrame(base_log_reg.scores_['trees'].T, index=np.log10(1/(cs))).plot()"
   ]
  },
  {
   "cell_type": "code",
   "execution_count": 57,
   "id": "fa8cb1a4",
   "metadata": {},
   "outputs": [
    {
     "data": {
      "text/plain": [
       "<AxesSubplot:>"
      ]
     },
     "execution_count": 57,
     "metadata": {},
     "output_type": "execute_result"
    },
    {
     "data": {
      "image/png": "[encoded data removed]",
      "text/plain": [
       "<Figure size 432x288 with 1 Axes>"
      ]
     },
     "metadata": {
      "needs_background": "light"
     },
     "output_type": "display_data"
    }
   ],
   "source": [
    "pd.DataFrame(base_log_reg.scores_['water'].T, index=np.log10(1/(cs))).plot()"
   ]
  },
  {
   "cell_type": "code",
   "execution_count": 58,
   "id": "95e14d0c",
   "metadata": {},
   "outputs": [
    {
     "data": {
      "text/plain": [
       "<AxesSubplot:>"
      ]
     },
     "execution_count": 58,
     "metadata": {},
     "output_type": "execute_result"
    },
    {
     "data": {
      "image/png": "[encoded data removed]",
      "text/plain": [
       "<Figure size 432x288 with 1 Axes>"
      ]
     },
     "metadata": {
      "needs_background": "light"
     },
     "output_type": "display_data"
    }
   ],
   "source": [
    "pd.DataFrame(base_log_reg.scores_['roof'].T, index=np.log10(1/(cs))).plot()"
   ]
  },
  {
   "cell_type": "code",
   "execution_count": 59,
   "id": "112e4a1f",
   "metadata": {},
   "outputs": [
    {
     "data": {
      "text/plain": [
       "<AxesSubplot:>"
      ]
     },
     "execution_count": 59,
     "metadata": {},
     "output_type": "execute_result"
    },
    {
     "data": {
      "image/png": "[encoded data removed]",
      "text/plain": [
       "<Figure size 432x288 with 1 Axes>"
      ]
     },
     "metadata": {
      "needs_background": "light"
     },
     "output_type": "display_data"
    }
   ],
   "source": [
    "pd.DataFrame(base_log_reg.scores_['grass'].T, index=np.log10(1/(cs))).plot()"
   ]
  },
  {
   "cell_type": "code",
   "execution_count": 60,
   "id": "34d58ed6",
   "metadata": {},
   "outputs": [
    {
     "data": {
      "text/plain": [
       "<AxesSubplot:>"
      ]
     },
     "execution_count": 60,
     "metadata": {},
     "output_type": "execute_result"
    },
    {
     "data": {
      "image/png": "[encoded data removed]",
      "text/plain": [
       "<Figure size 432x288 with 1 Axes>"
      ]
     },
     "metadata": {
      "needs_background": "light"
     },
     "output_type": "display_data"
    }
   ],
   "source": [
    "pd.DataFrame(base_log_reg.coefs_paths_['trees'].mean(axis=0), index=np.log10(1/(cs))).plot(legend=False)"
   ]
  },
  {
   "cell_type": "markdown",
   "id": "5eee2236",
   "metadata": {},
   "source": [
    "Hier is te zien dat veel van de variable voor het voorspellen van water niet gebruikt worden, \n",
    "maar er zijn er een paar die wel gebruikt worden"
   ]
  },
  {
   "cell_type": "code",
   "execution_count": 61,
   "id": "cdbfab8c",
   "metadata": {},
   "outputs": [
    {
     "data": {
      "text/plain": [
       "<AxesSubplot:>"
      ]
     },
     "execution_count": 61,
     "metadata": {},
     "output_type": "execute_result"
    },
    {
     "data": {
      "image/png": "[encoded data removed]",
      "text/plain": [
       "<Figure size 432x288 with 1 Axes>"
      ]
     },
     "metadata": {
      "needs_background": "light"
     },
     "output_type": "display_data"
    }
   ],
   "source": [
    "pd.DataFrame(base_log_reg.coefs_paths_['water'].mean(axis=0), index=np.log10(1/(cs))).plot(legend=False)"
   ]
  },
  {
   "cell_type": "code",
   "execution_count": 62,
   "id": "d1ecfed9",
   "metadata": {},
   "outputs": [
    {
     "data": {
      "text/plain": [
       "<AxesSubplot:>"
      ]
     },
     "execution_count": 62,
     "metadata": {},
     "output_type": "execute_result"
    },
    {
     "data": {
      "image/png": "[encoded data removed]",
      "text/plain": [
       "<Figure size 432x288 with 1 Axes>"
      ]
     },
     "metadata": {
      "needs_background": "light"
     },
     "output_type": "display_data"
    }
   ],
   "source": [
    "pd.DataFrame(base_log_reg.coefs_paths_['trees'].mean(axis=0), index=np.log10(1/(cs))).plot(legend=False)"
   ]
  },
  {
   "cell_type": "code",
   "execution_count": 63,
   "id": "c1dc3bc3",
   "metadata": {},
   "outputs": [
    {
     "data": {
      "text/plain": [
       "<AxesSubplot:>"
      ]
     },
     "execution_count": 63,
     "metadata": {},
     "output_type": "execute_result"
    },
    {
     "data": {
      "image/png": "[encoded data removed]",
      "text/plain": [
       "<Figure size 432x288 with 1 Axes>"
      ]
     },
     "metadata": {
      "needs_background": "light"
     },
     "output_type": "display_data"
    }
   ],
   "source": [
    "pd.DataFrame(base_log_reg.coefs_paths_['roof'].mean(axis=0), index=np.log10(1/(cs))).plot(legend=False)"
   ]
  },
  {
   "cell_type": "code",
   "execution_count": 65,
   "id": "f1941cdf",
   "metadata": {},
   "outputs": [
    {
     "data": {
      "text/html": [
       "<div>\n",
       "<style scoped>\n",
       "    .dataframe tbody tr th:only-of-type {\n",
       "        vertical-align: middle;\n",
       "    }\n",
       "\n",
       "    .dataframe tbody tr th {\n",
       "        vertical-align: top;\n",
       "    }\n",
       "\n",
       "    .dataframe thead th {\n",
       "        text-align: right;\n",
       "    }\n",
       "</style>\n",
       "<table border=\"1\" class=\"dataframe\">\n",
       "  <thead>\n",
       "    <tr style=\"text-align: right;\">\n",
       "      <th>band</th>\n",
       "      <th>x</th>\n",
       "      <th>y</th>\n",
       "      <th>1</th>\n",
       "      <th>2</th>\n",
       "      <th>3</th>\n",
       "      <th>4</th>\n",
       "      <th>5</th>\n",
       "      <th>6</th>\n",
       "      <th>7</th>\n",
       "      <th>8</th>\n",
       "      <th>...</th>\n",
       "      <th>182</th>\n",
       "      <th>183</th>\n",
       "      <th>184</th>\n",
       "      <th>185</th>\n",
       "      <th>186</th>\n",
       "      <th>187</th>\n",
       "      <th>188</th>\n",
       "      <th>189</th>\n",
       "      <th>190</th>\n",
       "      <th>191</th>\n",
       "    </tr>\n",
       "  </thead>\n",
       "  <tbody>\n",
       "    <tr>\n",
       "      <th>0</th>\n",
       "      <td>1</td>\n",
       "      <td>1</td>\n",
       "      <td>3007</td>\n",
       "      <td>2785</td>\n",
       "      <td>2709</td>\n",
       "      <td>2751</td>\n",
       "      <td>2612</td>\n",
       "      <td>2633</td>\n",
       "      <td>2559</td>\n",
       "      <td>2372</td>\n",
       "      <td>...</td>\n",
       "      <td>0</td>\n",
       "      <td>1</td>\n",
       "      <td>1</td>\n",
       "      <td>0</td>\n",
       "      <td>0</td>\n",
       "      <td>0</td>\n",
       "      <td>-1</td>\n",
       "      <td>3</td>\n",
       "      <td>0</td>\n",
       "      <td>0</td>\n",
       "    </tr>\n",
       "    <tr>\n",
       "      <th>1</th>\n",
       "      <td>1</td>\n",
       "      <td>2</td>\n",
       "      <td>3328</td>\n",
       "      <td>3151</td>\n",
       "      <td>3078</td>\n",
       "      <td>3012</td>\n",
       "      <td>3040</td>\n",
       "      <td>2903</td>\n",
       "      <td>2769</td>\n",
       "      <td>2598</td>\n",
       "      <td>...</td>\n",
       "      <td>1</td>\n",
       "      <td>1</td>\n",
       "      <td>1</td>\n",
       "      <td>1</td>\n",
       "      <td>0</td>\n",
       "      <td>0</td>\n",
       "      <td>0</td>\n",
       "      <td>1</td>\n",
       "      <td>0</td>\n",
       "      <td>0</td>\n",
       "    </tr>\n",
       "    <tr>\n",
       "      <th>2</th>\n",
       "      <td>1</td>\n",
       "      <td>3</td>\n",
       "      <td>3229</td>\n",
       "      <td>3243</td>\n",
       "      <td>3067</td>\n",
       "      <td>3040</td>\n",
       "      <td>3016</td>\n",
       "      <td>2948</td>\n",
       "      <td>2829</td>\n",
       "      <td>2611</td>\n",
       "      <td>...</td>\n",
       "      <td>2</td>\n",
       "      <td>2</td>\n",
       "      <td>0</td>\n",
       "      <td>1</td>\n",
       "      <td>0</td>\n",
       "      <td>0</td>\n",
       "      <td>3</td>\n",
       "      <td>-1</td>\n",
       "      <td>0</td>\n",
       "      <td>1</td>\n",
       "    </tr>\n",
       "    <tr>\n",
       "      <th>3</th>\n",
       "      <td>1</td>\n",
       "      <td>4</td>\n",
       "      <td>3250</td>\n",
       "      <td>3186</td>\n",
       "      <td>3049</td>\n",
       "      <td>3036</td>\n",
       "      <td>2949</td>\n",
       "      <td>2936</td>\n",
       "      <td>2823</td>\n",
       "      <td>2586</td>\n",
       "      <td>...</td>\n",
       "      <td>1</td>\n",
       "      <td>1</td>\n",
       "      <td>0</td>\n",
       "      <td>1</td>\n",
       "      <td>1</td>\n",
       "      <td>1</td>\n",
       "      <td>0</td>\n",
       "      <td>0</td>\n",
       "      <td>1</td>\n",
       "      <td>2</td>\n",
       "    </tr>\n",
       "    <tr>\n",
       "      <th>4</th>\n",
       "      <td>1</td>\n",
       "      <td>5</td>\n",
       "      <td>3082</td>\n",
       "      <td>3141</td>\n",
       "      <td>3010</td>\n",
       "      <td>3056</td>\n",
       "      <td>3018</td>\n",
       "      <td>2976</td>\n",
       "      <td>2869</td>\n",
       "      <td>2654</td>\n",
       "      <td>...</td>\n",
       "      <td>1</td>\n",
       "      <td>0</td>\n",
       "      <td>1</td>\n",
       "      <td>0</td>\n",
       "      <td>0</td>\n",
       "      <td>1</td>\n",
       "      <td>0</td>\n",
       "      <td>2</td>\n",
       "      <td>0</td>\n",
       "      <td>0</td>\n",
       "    </tr>\n",
       "    <tr>\n",
       "      <th>...</th>\n",
       "      <td>...</td>\n",
       "      <td>...</td>\n",
       "      <td>...</td>\n",
       "      <td>...</td>\n",
       "      <td>...</td>\n",
       "      <td>...</td>\n",
       "      <td>...</td>\n",
       "      <td>...</td>\n",
       "      <td>...</td>\n",
       "      <td>...</td>\n",
       "      <td>...</td>\n",
       "      <td>...</td>\n",
       "      <td>...</td>\n",
       "      <td>...</td>\n",
       "      <td>...</td>\n",
       "      <td>...</td>\n",
       "      <td>...</td>\n",
       "      <td>...</td>\n",
       "      <td>...</td>\n",
       "      <td>...</td>\n",
       "      <td>...</td>\n",
       "    </tr>\n",
       "    <tr>\n",
       "      <th>195</th>\n",
       "      <td>1</td>\n",
       "      <td>196</td>\n",
       "      <td>4165</td>\n",
       "      <td>3997</td>\n",
       "      <td>3887</td>\n",
       "      <td>3904</td>\n",
       "      <td>3902</td>\n",
       "      <td>3859</td>\n",
       "      <td>3805</td>\n",
       "      <td>3577</td>\n",
       "      <td>...</td>\n",
       "      <td>40</td>\n",
       "      <td>33</td>\n",
       "      <td>26</td>\n",
       "      <td>31</td>\n",
       "      <td>28</td>\n",
       "      <td>27</td>\n",
       "      <td>17</td>\n",
       "      <td>23</td>\n",
       "      <td>17</td>\n",
       "      <td>12</td>\n",
       "    </tr>\n",
       "    <tr>\n",
       "      <th>196</th>\n",
       "      <td>1</td>\n",
       "      <td>197</td>\n",
       "      <td>4077</td>\n",
       "      <td>3905</td>\n",
       "      <td>3889</td>\n",
       "      <td>3874</td>\n",
       "      <td>3839</td>\n",
       "      <td>3801</td>\n",
       "      <td>3769</td>\n",
       "      <td>3523</td>\n",
       "      <td>...</td>\n",
       "      <td>39</td>\n",
       "      <td>33</td>\n",
       "      <td>28</td>\n",
       "      <td>30</td>\n",
       "      <td>29</td>\n",
       "      <td>28</td>\n",
       "      <td>17</td>\n",
       "      <td>22</td>\n",
       "      <td>17</td>\n",
       "      <td>12</td>\n",
       "    </tr>\n",
       "    <tr>\n",
       "      <th>197</th>\n",
       "      <td>1</td>\n",
       "      <td>198</td>\n",
       "      <td>3858</td>\n",
       "      <td>3892</td>\n",
       "      <td>3845</td>\n",
       "      <td>3865</td>\n",
       "      <td>3821</td>\n",
       "      <td>3794</td>\n",
       "      <td>3754</td>\n",
       "      <td>3535</td>\n",
       "      <td>...</td>\n",
       "      <td>42</td>\n",
       "      <td>33</td>\n",
       "      <td>27</td>\n",
       "      <td>32</td>\n",
       "      <td>31</td>\n",
       "      <td>29</td>\n",
       "      <td>18</td>\n",
       "      <td>24</td>\n",
       "      <td>19</td>\n",
       "      <td>13</td>\n",
       "    </tr>\n",
       "    <tr>\n",
       "      <th>198</th>\n",
       "      <td>1</td>\n",
       "      <td>199</td>\n",
       "      <td>4136</td>\n",
       "      <td>3914</td>\n",
       "      <td>3825</td>\n",
       "      <td>3895</td>\n",
       "      <td>3826</td>\n",
       "      <td>3854</td>\n",
       "      <td>3658</td>\n",
       "      <td>3567</td>\n",
       "      <td>...</td>\n",
       "      <td>40</td>\n",
       "      <td>34</td>\n",
       "      <td>28</td>\n",
       "      <td>34</td>\n",
       "      <td>30</td>\n",
       "      <td>26</td>\n",
       "      <td>16</td>\n",
       "      <td>24</td>\n",
       "      <td>17</td>\n",
       "      <td>13</td>\n",
       "    </tr>\n",
       "    <tr>\n",
       "      <th>199</th>\n",
       "      <td>1</td>\n",
       "      <td>200</td>\n",
       "      <td>4088</td>\n",
       "      <td>3808</td>\n",
       "      <td>3796</td>\n",
       "      <td>3879</td>\n",
       "      <td>3797</td>\n",
       "      <td>3725</td>\n",
       "      <td>3634</td>\n",
       "      <td>3556</td>\n",
       "      <td>...</td>\n",
       "      <td>40</td>\n",
       "      <td>34</td>\n",
       "      <td>26</td>\n",
       "      <td>32</td>\n",
       "      <td>29</td>\n",
       "      <td>26</td>\n",
       "      <td>18</td>\n",
       "      <td>25</td>\n",
       "      <td>19</td>\n",
       "      <td>14</td>\n",
       "    </tr>\n",
       "  </tbody>\n",
       "</table>\n",
       "<p>200 rows × 193 columns</p>\n",
       "</div>"
      ],
      "text/plain": [
       "band  x    y     1     2     3     4     5     6     7     8  ...  182  183  \\\n",
       "0     1    1  3007  2785  2709  2751  2612  2633  2559  2372  ...    0    1   \n",
       "1     1    2  3328  3151  3078  3012  3040  2903  2769  2598  ...    1    1   \n",
       "2     1    3  3229  3243  3067  3040  3016  2948  2829  2611  ...    2    2   \n",
       "3     1    4  3250  3186  3049  3036  2949  2936  2823  2586  ...    1    1   \n",
       "4     1    5  3082  3141  3010  3056  3018  2976  2869  2654  ...    1    0   \n",
       "..   ..  ...   ...   ...   ...   ...   ...   ...   ...   ...  ...  ...  ...   \n",
       "195   1  196  4165  3997  3887  3904  3902  3859  3805  3577  ...   40   33   \n",
       "196   1  197  4077  3905  3889  3874  3839  3801  3769  3523  ...   39   33   \n",
       "197   1  198  3858  3892  3845  3865  3821  3794  3754  3535  ...   42   33   \n",
       "198   1  199  4136  3914  3825  3895  3826  3854  3658  3567  ...   40   34   \n",
       "199   1  200  4088  3808  3796  3879  3797  3725  3634  3556  ...   40   34   \n",
       "\n",
       "band  184  185  186  187  188  189  190  191  \n",
       "0       1    0    0    0   -1    3    0    0  \n",
       "1       1    1    0    0    0    1    0    0  \n",
       "2       0    1    0    0    3   -1    0    1  \n",
       "3       0    1    1    1    0    0    1    2  \n",
       "4       1    0    0    1    0    2    0    0  \n",
       "..    ...  ...  ...  ...  ...  ...  ...  ...  \n",
       "195    26   31   28   27   17   23   17   12  \n",
       "196    28   30   29   28   17   22   17   12  \n",
       "197    27   32   31   29   18   24   19   13  \n",
       "198    28   34   30   26   16   24   17   13  \n",
       "199    26   32   29   26   18   25   19   14  \n",
       "\n",
       "[200 rows x 193 columns]"
      ]
     },
     "execution_count": 65,
     "metadata": {},
     "output_type": "execute_result"
    }
   ],
   "source": [
    "land = pd.read_pickle('spectral_data.pkl')\n",
    "land = land[:200]\n",
    "land"
   ]
  },
  {
   "cell_type": "code",
   "execution_count": 71,
   "id": "f6dcde34",
   "metadata": {},
   "outputs": [
    {
     "data": {
      "text/plain": [
       "0    trees\n",
       "1    trees\n",
       "2    water\n",
       "3    water\n",
       "4    water\n",
       "Name: category, dtype: object"
      ]
     },
     "execution_count": 71,
     "metadata": {},
     "output_type": "execute_result"
    }
   ],
   "source": [
    "land_labels = pd.read_pickle('ground_truth.pkl')\n",
    "land_labels = land_labels[:200]\n",
    "land_labels = land_labels['category']\n",
    "land_labels.head()"
   ]
  },
  {
   "cell_type": "code",
   "execution_count": 72,
   "id": "4469db2e",
   "metadata": {},
   "outputs": [
    {
     "data": {
      "text/plain": [
       "0.92"
      ]
     },
     "execution_count": 72,
     "metadata": {},
     "output_type": "execute_result"
    }
   ],
   "source": [
    "from sklearn.linear_model import LogisticRegression\n",
    "\n",
    "base_log_reg = LogisticRegression(penalty='l1', \n",
    "                                   multi_class='ovr',\n",
    "                                   solver='saga', \n",
    "                                   max_iter=int(1e4), \n",
    "                                   C=1).fit(land, land_labels)\n",
    "\n",
    "base_log_reg.score(land, land_labels)"
   ]
  },
  {
   "cell_type": "markdown",
   "id": "197fdca5",
   "metadata": {},
   "source": [
    "De score is veel hogere dan met sample. Dit is omdat in het model waarschijnlijk vaker een categorie heeft dan de andere.\n",
    "Waardoor die overgefitd wordt want als alles grass is kan het model het moeilijk verkeerd hebben."
   ]
  },
  {
   "cell_type": "code",
   "execution_count": 73,
   "id": "a88caf74",
   "metadata": {},
   "outputs": [],
   "source": [
    "from sklearn.svm import l1_min_c\n",
    "import numpy as np\n",
    "\n",
    "cs = l1_min_c(land, land_labels, loss='log') * np.logspace(0, 7, 16)"
   ]
  },
  {
   "cell_type": "code",
   "execution_count": 74,
   "id": "db908e68",
   "metadata": {},
   "outputs": [
    {
     "data": {
      "text/plain": [
       "array([ 5.49997011,  5.03330344,  4.56663677,  4.09997011,  3.63330344,\n",
       "        3.16663677,  2.69997011,  2.23330344,  1.76663677,  1.29997011,\n",
       "        0.83330344,  0.36663677, -0.10002989, -0.56669656, -1.03336323,\n",
       "       -1.50002989])"
      ]
     },
     "execution_count": 74,
     "metadata": {},
     "output_type": "execute_result"
    }
   ],
   "source": [
    "np.log10(1/cs) "
   ]
  },
  {
   "cell_type": "code",
   "execution_count": 75,
   "id": "748b6f06",
   "metadata": {},
   "outputs": [],
   "source": [
    "from sklearn.linear_model import LogisticRegressionCV #let op dit is de crossvalidatie \n",
    "\n",
    "base_log_reg = LogisticRegressionCV(penalty='l1', \n",
    "                                   multi_class='ovr',\n",
    "                                   solver='saga', \n",
    "                                   max_iter=int(1e4), \n",
    "                                   Cs=cs).fit(land, land_labels)\n"
   ]
  },
  {
   "cell_type": "code",
   "execution_count": 76,
   "id": "fa4719b3",
   "metadata": {},
   "outputs": [
    {
     "data": {
      "text/plain": [
       "0.905"
      ]
     },
     "execution_count": 76,
     "metadata": {},
     "output_type": "execute_result"
    }
   ],
   "source": [
    "base_log_reg.score(land, land_labels)"
   ]
  },
  {
   "cell_type": "markdown",
   "id": "3bbf743d",
   "metadata": {},
   "source": [
    "Het zelfde effect is hier ook te zien."
   ]
  },
  {
   "cell_type": "code",
   "execution_count": 77,
   "id": "8657ae51",
   "metadata": {},
   "outputs": [
    {
     "data": {
      "text/plain": [
       "<AxesSubplot:>"
      ]
     },
     "execution_count": 77,
     "metadata": {},
     "output_type": "execute_result"
    },
    {
     "data": {
      "image/png": "[encoded data removed]",
      "text/plain": [
       "<Figure size 432x288 with 1 Axes>"
      ]
     },
     "metadata": {
      "needs_background": "light"
     },
     "output_type": "display_data"
    },
    {
     "data": {
      "image/png": "[encoded data removed]",
      "text/plain": [
       "<Figure size 432x288 with 1 Axes>"
      ]
     },
     "metadata": {
      "needs_background": "light"
     },
     "output_type": "display_data"
    }
   ],
   "source": [
    "pd.DataFrame(base_log_reg.scores_['trees']).plot()\n",
    "pd.DataFrame(base_log_reg.scores_['trees'].T, index=np.log10(1/(cs))).plot()"
   ]
  },
  {
   "cell_type": "markdown",
   "id": "454c5213",
   "metadata": {},
   "source": [
    "De grafrieken zijn ook anders"
   ]
  },
  {
   "cell_type": "code",
   "execution_count": null,
   "id": "9a00cb3d",
   "metadata": {},
   "outputs": [],
   "source": []
  }
 ],
 "metadata": {
  "kernelspec": {
   "display_name": "Python 3 (ipykernel)",
   "language": "python",
   "name": "python3"
  },
  "language_info": {
   "codemirror_mode": {
    "name": "ipython",
    "version": 3
   },
   "file_extension": ".py",
   "mimetype": "text/x-python",
   "name": "python",
   "nbconvert_exporter": "python",
   "pygments_lexer": "ipython3",
   "version": "3.9.12"
  }
 },
 "nbformat": 4,
 "nbformat_minor": 5
}
